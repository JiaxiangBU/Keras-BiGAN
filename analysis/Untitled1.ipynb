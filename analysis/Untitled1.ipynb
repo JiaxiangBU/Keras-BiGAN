{
 "cells": [
  {
   "cell_type": "code",
   "execution_count": null,
   "metadata": {},
   "outputs": [],
   "source": [
    "import tensorflow as tf\n",
    "import tensorflow_hub as hub\n",
    "# Load BigBiGAN module.\n",
    "module = hub.Module('https://tfhub.dev/deepmind/bigbigan-resnet50/1')\n",
    "\n"
   ]
  },
  {
   "cell_type": "code",
   "execution_count": null,
   "metadata": {
    "collapsed": true
   },
   "outputs": [],
   "source": [
    "# Sample a batch of 8 random latent vectors (z) from the Gaussian prior. Then\n",
    "# call the generator on the latent samples to generate a batch of images with\n",
    "# shape [8, 128, 128, 3] and range [-1, 1].\n",
    "z = tf.random.normal([8, 120])  # latent samples\n",
    "gen_samples = module(z, signature='generate')\n",
    "\n",
    "# Given a batch of 256x256 RGB images in range [-1, 1], call the encoder to\n",
    "# compute predicted latents z and other features (e.g. for use in downstream\n",
    "# recognition tasks).\n",
    "images = tf.placeholder(tf.float32, shape=[None, 256, 256, 3])\n",
    "features = module(images, signature='encode', as_dict=True)\n",
    "\n",
    "# Get the predicted latent sample `z_sample` from the dict of features.\n",
    "# Other available features include `avepool_feat` and `bn_crelu_feat`, used in\n",
    "# the representation learning results.\n",
    "z_sample = features['z_sample']  # shape [?, 120]\n",
    "\n",
    "# Compute reconstructions of the input `images` by passing the encoder's output\n",
    "# `z_sample` back through the generator. Note that raw generator outputs are\n",
    "# half the resolution of encoder inputs (128x128). To get upsampled generator\n",
    "# outputs matching the encoder input resolution (256x256), instead use:\n",
    "#     recons = module(z_sample, signature='generate', as_dict=True)['upsampled']\n",
    "recons = module(z_sample, signature='generate')  # shape [?, 128, 128, 3]"
   ]
  }
 ],
 "metadata": {
  "kernelspec": {
   "display_name": "Python 3",
   "language": "python",
   "name": "python3"
  },
  "language_info": {
   "codemirror_mode": {
    "name": "ipython",
    "version": 3
   },
   "file_extension": ".py",
   "mimetype": "text/x-python",
   "name": "python",
   "nbconvert_exporter": "python",
   "pygments_lexer": "ipython3",
   "version": "3.5.4"
  },
  "latex_envs": {
   "LaTeX_envs_menu_present": true,
   "autoclose": true,
   "autocomplete": true,
   "bibliofile": "biblio.bib",
   "cite_by": "apalike",
   "current_citInitial": 1,
   "eqLabelWithNumbers": true,
   "eqNumInitial": 1,
   "hotkeys": {
    "equation": "Ctrl-E",
    "itemize": "Ctrl-I"
   },
   "labels_anchors": false,
   "latex_user_defs": false,
   "report_style_numbering": false,
   "user_envs_cfg": false
  }
 },
 "nbformat": 4,
 "nbformat_minor": 2
}
